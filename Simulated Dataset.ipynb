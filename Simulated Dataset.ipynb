{
 "cells": [
  {
   "cell_type": "markdown",
   "metadata": {},
   "source": [
    "# Simulated Dataset"
   ]
  },
  {
   "cell_type": "markdown",
   "metadata": {},
   "source": [
    "## Real-World Phenomenon\n",
    "- The real world phenomenon I have selected for this project is wind. \n",
    "- The data simulated will imitate features relating to wind that could be measured at Cork Airport."
   ]
  },
  {
   "cell_type": "markdown",
   "metadata": {},
   "source": [
    "## Variables to Simulate\n",
    "\n",
    "\n",
    "### 1. Wind Speed\n",
    "#### Description\n",
    "- 30-year average of 10.5 knots. [1]\n",
    "#### Likely distribution\n",
    "- Rayleigh distribution\n",
    "\n",
    "\n",
    "### 2. Wind Direction\n",
    "#### Description\n",
    "-\n",
    "#### Likely distribution\n",
    "- \n",
    "\n",
    "\n",
    "### 3. Atmospheric Pressure\n",
    "#### Description\n",
    "-\n",
    "#### Likely distribution\n",
    "- \n",
    "\n",
    "\n",
    "### 4. Season\n",
    "#### Description\n",
    "-\n",
    "#### Likely distribution\n",
    "- \n"
   ]
  },
  {
   "cell_type": "markdown",
   "metadata": {},
   "source": [
    "## Relationships Between Variables\n",
    "- \n",
    "- \n",
    "- "
   ]
  },
  {
   "cell_type": "markdown",
   "metadata": {},
   "source": [
    "## Simulation of Dataset"
   ]
  },
  {
   "cell_type": "code",
   "execution_count": 2,
   "metadata": {},
   "outputs": [],
   "source": [
    "# Code"
   ]
  },
  {
   "cell_type": "markdown",
   "metadata": {},
   "source": [
    "## Resulting Dataset"
   ]
  },
  {
   "cell_type": "code",
   "execution_count": 3,
   "metadata": {},
   "outputs": [],
   "source": [
    "# Code"
   ]
  },
  {
   "cell_type": "markdown",
   "metadata": {},
   "source": [
    "## References\n",
    "- [1] Met Eireann. 30 Year Averages.\n",
    "  https://www.met.ie/climate-ireland/1981-2010/cork.html\n",
    "- \n",
    "- \n"
   ]
  }
 ],
 "metadata": {
  "kernelspec": {
   "display_name": "Python 3",
   "language": "python",
   "name": "python3"
  },
  "language_info": {
   "codemirror_mode": {
    "name": "ipython",
    "version": 3
   },
   "file_extension": ".py",
   "mimetype": "text/x-python",
   "name": "python",
   "nbconvert_exporter": "python",
   "pygments_lexer": "ipython3",
   "version": "3.7.0"
  }
 },
 "nbformat": 4,
 "nbformat_minor": 2
}
