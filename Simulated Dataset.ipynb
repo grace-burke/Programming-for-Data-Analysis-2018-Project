{
 "cells": [
  {
   "cell_type": "markdown",
   "metadata": {},
   "source": [
    "# Simulated Dataset"
   ]
  },
  {
   "cell_type": "markdown",
   "metadata": {},
   "source": [
    "## Real-World Phenomenon\n",
    "- The real world phenomenon I have selected for this project is wind.\n",
    "- The data simulated will imitate variables relating to wind that could be measured at Cork Airport.\n",
    "- The simulated dataset will consist of 100 hourly data points selected from 1 year."
   ]
  },
  {
   "cell_type": "markdown",
   "metadata": {},
   "source": [
    "## Variables to Simulate\n",
    "\n",
    "\n",
    "### 1. Wind Speed\n",
    "- <b>Description</b>\n",
    "\n",
    "Wind is caused by air moving from high to low pressure, usually due to changes in temperature. The speed at which the air moves is the wind speed. It is sometimes measured in nautical miles per hour (knots) but for the purposes of this project it will be considered in metres/second (m/s). According to Met Eireann's records, the 30-year average wind speed at Cork Airport is 10.5 knots. [1] This is equivalent to 5.4 m/s.\n",
    "\n",
    "- <b>Likely distribution</b>\n",
    "\n",
    "When measuring wind speed, it can be observed that strong gale force winds occur rarely while moderate winds are much more common. Studies have concluded that the best probability density distribution for approximating hourly or 10 minute wind speeds at a site is the Weibull distribution. [2]\n",
    "    \n",
    "<img src = \"./Images/Weibull.png\">\n",
    "<center>[3]</center>\n",
    "\n",
    "The Weibull probability distribution is a two-parameter function that is widely used in statistical analysis. Its two parameters are scale and shape. The scale relates to the long term mean wind speed at the site and the shape factor can be calculated from the standard deviation of the dataset if known.\n",
    "\n",
    "The statistical distribution of wind speeds differs from site to site. It can be influenced by local climate, the landscape and topography. These can give different versions of a Weibull distribution with different mean values and shapes.\n",
    "\n",
    "When the shape factor of a Weibull distribution is exactly 2, it is called a Rayleigh distribution. It has been shown that for mean wind speeds above 4 m/s, the Rayleigh distribution is an acceptable approximation for wind speed. [4] This is equivalent to a standard deviation of 52% of the mean wind speed.[5] This distribution is commonly used by wind turbine manufacturers to estimate the power that would be produced by a wind turbine at that particular site.\n",
    "\n",
    "<img src = \"./Images/Rayleigh.png\">\n",
    "<center>[6]</center>\n",
    "The scale parameter for a Rayleigh wind distribution can be calculated as 2/π x long-term average wind speed. [7]\n",
    "\n",
    "Python can produce an array of random numbers with a Rayleigh probability distribution using the numpy.random.rayleigh function, which accepts the scale factor and size of the output array as inputs.\n",
    "\n",
    "\n",
    "### 2. Wind Direction\n",
    "#### Description\n",
    "-\n",
    "#### Likely distribution\n",
    "- \n",
    "\n",
    "\n",
    "### 3. Atmospheric Pressure\n",
    "#### Description\n",
    "-\n",
    "#### Likely distribution\n",
    "- \n",
    "\n",
    "\n",
    "### 4. Season\n",
    "- <b>Description</b>\n",
    "\n",
    "Wind speed, direction and atmospheric pressure will all vary with the time of year.\n",
    "\n",
    "To examine this, the 4th variable generated will be the season, spring, summer, autumn or winter.\n",
    "\n",
    "- <b>Likely distribution</b>\n",
    "\n",
    "The 100 data points are taken at random across one year. As a result, each data point is equally as likely to occur in any of the 4 seasons. This is a uniform probability distribution.\n",
    "\n",
    "<img src = \"./Images/Uniform.png\">\n"
   ]
  },
  {
   "cell_type": "markdown",
   "metadata": {},
   "source": [
    "## Relationships Between Variables\n",
    "- \n",
    "- \n",
    "- "
   ]
  },
  {
   "cell_type": "markdown",
   "metadata": {},
   "source": [
    "## Simulation of Dataset"
   ]
  },
  {
   "cell_type": "code",
   "execution_count": null,
   "metadata": {},
   "outputs": [],
   "source": [
    "# Import pandas for data analysis\n",
    "import pandas as pd\n",
    "\n",
    "# Import numpy for random number generator\n",
    "import numpy as np\n",
    "\n",
    "# Import math for mathematical functions\n",
    "import math\n",
    "\n",
    "# Import matplotlib.pyplot for plotting\n",
    "import matplotlib.pyplot as plt\n",
    "\n",
    "# Make matplotlib show interactive plots in the notebook\n",
    "%matplotlib inline"
   ]
  },
  {
   "cell_type": "code",
   "execution_count": null,
   "metadata": {},
   "outputs": [],
   "source": [
    "# Import monthly average measurements from Met Eireann file\n",
    "Long_Term_Averages = pd.read_csv(\"Data/mly3904.csv\",header=[0],skiprows = 19)\n",
    "\n",
    "# Add a column to the dataframe containing wind speed in m/s (converted from knots)\n",
    "Long_Term_Averages['wdsp m/s'] = Long_Term_Averages['wdsp']*0.51444\n",
    "\n",
    "# Create an empty dataframe which will be populated with the long term average values for each month\n",
    "Monthly_Mean = pd.DataFrame()\n",
    "\n",
    "# Populate dataframe with long term monthly averages\n",
    "for i in range(1,13):\n",
    "    Monthly_Mean.loc[i,'Mean_wdsp'] = np.mean(Long_Term_Averages.loc[Long_Term_Averages.loc[:,'month'] == i,'wdsp m/s'])\n",
    "    Monthly_Mean.loc[i,'Mean_temp'] = np.mean(Long_Term_Averages.loc[Long_Term_Averages.loc[:,'month'] == i,'meant'])"
   ]
  },
  {
   "cell_type": "code",
   "execution_count": null,
   "metadata": {},
   "outputs": [],
   "source": [
    "# Create array of possible seasons\n",
    "Season_Names = ('Spring','Summer','Autumn','Winter')\n",
    "\n",
    "# Select seasons at random for the 100 data points\n",
    "Seasons = np.random.choice(Season_Names, size=100)\n",
    "# Create a dataframe from the Seasons array\n",
    "Wind_Variables = pd.DataFrame(Seasons, columns=['Season'])"
   ]
  },
  {
   "cell_type": "code",
   "execution_count": null,
   "metadata": {},
   "outputs": [],
   "source": [
    "# Create a function to generate wind speed from a Rayleigh probability distribution based on the season of the data point\n",
    "def Wind_Speed_Generator(Season):\n",
    "    if Season == 'Spring':\n",
    "        # Average wind speed calculated from data for three months of spring from Met Eireann\n",
    "        Mean_Wind_Speed = np.mean(Monthly_Mean.loc[2:4,'Mean_wdsp'])\n",
    "        # Calculate scale factor for Rayleigh distribution from seasonal wind speed average\n",
    "        c_Factor = 2/(math.pi)*Mean_Wind_Speed\n",
    "        # Generate wind speed from Rayleigh distribution with seasonal scale factor\n",
    "        Wind_Speed = np.random.rayleigh(c_Factor)\n",
    "    if Season == 'Summer':\n",
    "        Mean_Wind_Speed = np.mean(Monthly_Mean.loc[5:7,'Mean_wdsp'])\n",
    "        c_Factor = 2/(math.pi)*Mean_Wind_Speed\n",
    "        Wind_Speed = np.random.rayleigh(c_Factor)  \n",
    "    if Season == 'Autumn':\n",
    "        Mean_Wind_Speed = np.mean(Monthly_Mean.loc[8:10,'Mean_wdsp'])\n",
    "        c_Factor = 2/(math.pi)*Mean_Wind_Speed\n",
    "        Wind_Speed = np.random.rayleigh(c_Factor)\n",
    "    if Season == 'Winter':\n",
    "        np.mean(Monthly_Mean.loc[[1,11,12],'Mean_wdsp'])\n",
    "        c_Factor = 2/(math.pi)*Mean_Wind_Speed\n",
    "        Wind_Speed = np.random.rayleigh(c_Factor)\n",
    "    return Wind_Speed\n",
    "\n",
    "# Loop through each row of wind variables dataframe and generate a wind speed based on the season using the function above.\n",
    "for i, row in Wind_Variables.iterrows():\n",
    "    Wind_Variables.loc[i,'Wind_Speed'] = Wind_Speed_Generator(Wind_Variables.loc[i,'Season'])\n",
    "    "
   ]
  },
  {
   "cell_type": "markdown",
   "metadata": {},
   "source": [
    "## Resulting Dataset"
   ]
  },
  {
   "cell_type": "code",
   "execution_count": null,
   "metadata": {},
   "outputs": [],
   "source": [
    "# Code"
   ]
  },
  {
   "cell_type": "markdown",
   "metadata": {},
   "source": [
    "## References\n",
    "- [1] Met Eireann. 30 Year Averages.\n",
    "  https://www.met.ie/climate-ireland/1981-2010/cork.html\n",
    "  \n",
    "- [2] Justus et al. Methods for Estimating Wind Speed Frequency Distributions.\n",
    "  http://ecreee.wikischolars.columbia.edu/file/view/Justus+1977+-+Estimation+of+Wind+Power+Distributions.pdf\n",
    "- [3] The Swiss Wind Power Data Website. Weibull Calculator.\n",
    "  https://wind-data.ch/tools/weibull.php?lng=en\n",
    "- [4]US Department of Energy. The Effect of Generalized Wind Characteristics on Annual Power Estimates from Wind Turbine Generators.\n",
    "  https://www.osti.gov/servlets/purl/5197838\n",
    "- [5] Wind Power Program. Wind statistics and the Weibull distribution. \n",
    "  http://www.wind-power-program.com/wind_statistics.htm\n",
    "- [6] Mohamed Hatim Ouahabi. Yearly comparison of data observed and predicted wind speed frequencies using Weibull and Rayleigh distributions at Lafarge cement plant.\n",
    " https://www.researchgate.net/figure/Yearly-comparison-of-data-observed-and-predicted-wind-speed-frequencies-using-Weibull-and_fig4_317070870\n",
    "- [7] Tony Burton et al. Wind Energy Handbook. https://books.google.ie/books?id=4UYm893y-34C&pg=PA14&lpg=PA14&dq=%22annual+mean+wind+speed%22+%22scale+parameter+c%22+rayleigh&source=bl&ots=2Q5w2O-aev&sig=F03_ke478E9n0wwNQjCTHdsIY6k&hl=en&sa=X&ved=2ahUKEwiS_-TljpjfAhX_RhUIHWk5Ds8Q6AEwBXoECAQQAQ#v=onepage&q=%22annual%20mean%20wind%20speed%22%20%22scale%20parameter%20c%22%20rayleigh&f=false"
   ]
  }
 ],
 "metadata": {
  "kernelspec": {
   "display_name": "Python 3",
   "language": "python",
   "name": "python3"
  },
  "language_info": {
   "codemirror_mode": {
    "name": "ipython",
    "version": 3
   },
   "file_extension": ".py",
   "mimetype": "text/x-python",
   "name": "python",
   "nbconvert_exporter": "python",
   "pygments_lexer": "ipython3",
   "version": "3.7.0"
  }
 },
 "nbformat": 4,
 "nbformat_minor": 2
}
