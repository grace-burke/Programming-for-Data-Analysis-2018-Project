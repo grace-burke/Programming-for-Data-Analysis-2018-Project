{
 "cells": [
  {
   "cell_type": "markdown",
   "metadata": {},
   "source": [
    "# Simulated Dataset"
   ]
  },
  {
   "cell_type": "markdown",
   "metadata": {},
   "source": [
    "## Real-World Phenomenon\n",
    "- The real world phenomenon I have selected for this project is wind.\n",
    "- The data simulated will imitate features relating to wind that could be measured at Cork Airport.\n",
    "- The simulated dataset will consist of 100 hourly data points selected from 1 year."
   ]
  },
  {
   "cell_type": "markdown",
   "metadata": {},
   "source": [
    "## Variables to Simulate\n",
    "\n",
    "\n",
    "### 1. Wind Speed\n",
    "- <b>Description</b>\n",
    "\n",
    "Wind is caused by air moving from high to low pressure, usually due to changes in temperature. The speed at which the air moves is the wind speed. It is sometimes measured in nautical miles per hour (knots) but for the purposes of this project it will be considered in metres/second (m/s). According to Met Eireann's records, the 30-year average wind speed at Cork Airport is 10.5 knots. [1] This is equivalent to 5.4 m/s.\n",
    "\n",
    "- <b>Likely distribution</b>\n",
    "\n",
    "When measuring wind speed, it can be observed that strong gale force winds occur rarely while moderate winds are much more common. Studies have concluded that the best probability density distribution for approximating hourly or 10 minute wind speeds at a site is the Weibull distribution.\n",
    "    \n",
    "<img src = \"./Images/Weibull.png\">\n",
    "\n",
    "The Weibull probability distribution is a two-parameter function that is widely used in statistical analysis. Its two parameters are scale and shape. The scale relates to the long term mean wind speed at the site and the shape factor can be calculated from the standard deviation of the dataset if known.\n",
    "\n",
    "The statistical distribution of wind speeds differs from site to site. It can be influenced by local climate, the landscape and topography. These can give different versions of a Weibull distribution with different mean values and shapes.\n",
    "\n",
    "When the shape factor of a Weibull distribution is exactly 2, it is called a Rayleigh distribution. It has been shown that for mean wind speeds above 4 m/s, the Rayleigh distribution is an acceptable approximation for wind speed. This is equivalent to a standard deviation of 52% of the mean wind speed. This distribution is commonly used by wind turbine manufacturers to estimate the power that would be produced by a wind turbine at that particular site.\n",
    "\n",
    "<img src = \"./Images/Rayleigh.png\">\n",
    "\n",
    "The scale parameter for a Rayleigh wind distribution can be calculated as 2/π x long-term average wind speed.\n",
    "Python can produce an array of random numbers with a Rayleigh probability distribution using the numpy.random.rayleigh function, which accepts the scale factor and size of the output array as inputs.\n",
    "\n",
    "\n",
    "### 2. Wind Direction\n",
    "#### Description\n",
    "-\n",
    "#### Likely distribution\n",
    "- \n",
    "\n",
    "\n",
    "### 3. Atmospheric Pressure\n",
    "#### Description\n",
    "-\n",
    "#### Likely distribution\n",
    "- \n",
    "\n",
    "\n",
    "### 4. Season\n",
    "#### Description\n",
    "-\n",
    "#### Likely distribution\n",
    "- \n"
   ]
  },
  {
   "cell_type": "markdown",
   "metadata": {},
   "source": [
    "## Relationships Between Variables\n",
    "- \n",
    "- \n",
    "- "
   ]
  },
  {
   "cell_type": "markdown",
   "metadata": {},
   "source": [
    "## Simulation of Dataset"
   ]
  },
  {
   "cell_type": "code",
   "execution_count": 11,
   "metadata": {},
   "outputs": [
    {
     "data": {
      "image/png": "[encoded data removed]",
      "text/plain": [
       "<Figure size 432x288 with 1 Axes>"
      ]
     },
     "metadata": {
      "needs_background": "light"
     },
     "output_type": "display_data"
    }
   ],
   "source": [
    "# Import numpy for random number generator\n",
    "import numpy as np\n",
    "\n",
    "# Import math for mathematical functions\n",
    "import math\n",
    "\n",
    "# Import matplotlib.pyplot for plotting\n",
    "import matplotlib.pyplot as plt\n",
    "\n",
    "# Make matplotlib show interactive plots in the notebook\n",
    "%matplotlib inline\n",
    "\n",
    "Mean_Wind_Speed = 5.4\n",
    "c_Factor = 2/(math.pi)*Mean_Wind_Speed\n",
    "Wind_Speed = np.random.rayleigh(c_Factor, size=100)\n",
    "\n",
    "plt.hist(Wind_Speed)\n",
    "plt.show()"
   ]
  },
  {
   "cell_type": "markdown",
   "metadata": {},
   "source": [
    "## Resulting Dataset"
   ]
  },
  {
   "cell_type": "code",
   "execution_count": 3,
   "metadata": {},
   "outputs": [],
   "source": [
    "# Code"
   ]
  },
  {
   "cell_type": "markdown",
   "metadata": {},
   "source": [
    "## References\n",
    "- [1] Met Eireann. 30 Year Averages.\n",
    "  https://www.met.ie/climate-ireland/1981-2010/cork.html\n",
    "- \n",
    "- \n"
   ]
  }
 ],
 "metadata": {
  "kernelspec": {
   "display_name": "Python 3",
   "language": "python",
   "name": "python3"
  },
  "language_info": {
   "codemirror_mode": {
    "name": "ipython",
    "version": 3
   },
   "file_extension": ".py",
   "mimetype": "text/x-python",
   "name": "python",
   "nbconvert_exporter": "python",
   "pygments_lexer": "ipython3",
   "version": "3.7.0"
  }
 },
 "nbformat": 4,
 "nbformat_minor": 2
}
